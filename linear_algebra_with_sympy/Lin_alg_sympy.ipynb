{
 "cells": [
  {
   "cell_type": "markdown",
   "metadata": {},
   "source": [
    "# Short introduction to Linear Algebra using Sympy"
   ]
  },
  {
   "cell_type": "markdown",
   "metadata": {
    "toc": true
   },
   "source": [
    "<h1>Table of Contents<span class=\"tocSkip\"></span></h1>\n",
    "<div class=\"toc\"><ul class=\"toc-item\"><li><span><a href=\"#Online-Sympy-server\" data-toc-modified-id=\"Online-Sympy-server-1\"><span class=\"toc-item-num\">1&nbsp;&nbsp;</span>Online Sympy server</a></span></li><li><span><a href=\"#Import\" data-toc-modified-id=\"Import-2\"><span class=\"toc-item-num\">2&nbsp;&nbsp;</span>Import</a></span></li><li><span><a href=\"#Entering-a-matrix\" data-toc-modified-id=\"Entering-a-matrix-3\"><span class=\"toc-item-num\">3&nbsp;&nbsp;</span>Entering a matrix</a></span></li><li><span><a href=\"#Finding-Reduced-Row-Echelon-Form\" data-toc-modified-id=\"Finding-Reduced-Row-Echelon-Form-4\"><span class=\"toc-item-num\">4&nbsp;&nbsp;</span>Finding Reduced Row Echelon Form</a></span></li><li><span><a href=\"#Finding-Inverses\" data-toc-modified-id=\"Finding-Inverses-5\"><span class=\"toc-item-num\">5&nbsp;&nbsp;</span>Finding Inverses</a></span></li><li><span><a href=\"#Least-Squares-and-Normal-Equation\" data-toc-modified-id=\"Least-Squares-and-Normal-Equation-6\"><span class=\"toc-item-num\">6&nbsp;&nbsp;</span>Least Squares and Normal Equation</a></span><ul class=\"toc-item\"><li><span><a href=\"#We-may-solve-the-normal-equation.\" data-toc-modified-id=\"We-may-solve-the-normal-equation.-6.1\"><span class=\"toc-item-num\">6.1&nbsp;&nbsp;</span>We may solve the normal equation.</a></span></li><li><span><a href=\"#We-may-use-the-solve_least_squares-function-of-sympy\" data-toc-modified-id=\"We-may-use-the-solve_least_squares-function-of-sympy-6.2\"><span class=\"toc-item-num\">6.2&nbsp;&nbsp;</span>We may use the solve_least_squares function of sympy</a></span></li></ul></li><li><span><a href=\"#Orthogonal-projection-into-$Im(A)$\" data-toc-modified-id=\"Orthogonal-projection-into-$Im(A)$-7\"><span class=\"toc-item-num\">7&nbsp;&nbsp;</span>Orthogonal projection into $Im(A)$</a></span><ul class=\"toc-item\"><li><span><a href=\"#Case-$A$-orthonormal\" data-toc-modified-id=\"Case-$A$-orthonormal-7.1\"><span class=\"toc-item-num\">7.1&nbsp;&nbsp;</span>Case $A$ orthonormal</a></span></li><li><span><a href=\"#General-Case\" data-toc-modified-id=\"General-Case-7.2\"><span class=\"toc-item-num\">7.2&nbsp;&nbsp;</span>General Case</a></span></li></ul></li><li><span><a href=\"#Gram-Schmidt-and-QR-Factorization\" data-toc-modified-id=\"Gram-Schmidt-and-QR-Factorization-8\"><span class=\"toc-item-num\">8&nbsp;&nbsp;</span>Gram-Schmidt and QR Factorization</a></span><ul class=\"toc-item\"><li><span><a href=\"#The-process\" data-toc-modified-id=\"The-process-8.1\"><span class=\"toc-item-num\">8.1&nbsp;&nbsp;</span>The process</a></span></li><li><span><a href=\"#Using-Sympy-routines\" data-toc-modified-id=\"Using-Sympy-routines-8.2\"><span class=\"toc-item-num\">8.2&nbsp;&nbsp;</span>Using Sympy routines</a></span></li><li><span><a href=\"#Gram-Schmidt-Example-generator\" data-toc-modified-id=\"Gram-Schmidt-Example-generator-8.3\"><span class=\"toc-item-num\">8.3&nbsp;&nbsp;</span>Gram Schmidt Example generator</a></span></li></ul></li></ul></div>"
   ]
  },
  {
   "cell_type": "markdown",
   "metadata": {},
   "source": [
    "## Online Sympy server\n",
    "\n",
    "https://live.sympy.org/"
   ]
  },
  {
   "cell_type": "markdown",
   "metadata": {},
   "source": [
    "## Import"
   ]
  },
  {
   "cell_type": "markdown",
   "metadata": {},
   "source": [
    "Import Sympy and assure pretty printing"
   ]
  },
  {
   "cell_type": "code",
   "execution_count": 2,
   "metadata": {
    "ExecuteTime": {
     "end_time": "2020-09-26T23:13:09.966262Z",
     "start_time": "2020-09-26T23:13:09.960620Z"
    }
   },
   "outputs": [
    {
     "name": "stdout",
     "output_type": "stream",
     "text": [
      "IPython console for SymPy 1.6.2 (Python 3.8.6-64-bit) (ground types: python)\n",
      "\n",
      "These commands were executed:\n",
      ">>> from __future__ import division\n",
      ">>> from sympy import *\n",
      ">>> x, y, z, t = symbols('x y z t')\n",
      ">>> k, m, n = symbols('k m n', integer=True)\n",
      ">>> f, g, h = symbols('f g h', cls=Function)\n",
      ">>> init_printing()\n",
      "\n",
      "Documentation can be found at https://docs.sympy.org/1.6.2/\n",
      "\n"
     ]
    }
   ],
   "source": [
    "from sympy import init_session\n",
    "init_session()"
   ]
  },
  {
   "cell_type": "markdown",
   "metadata": {},
   "source": [
    "## Entering a matrix"
   ]
  },
  {
   "cell_type": "code",
   "execution_count": 3,
   "metadata": {
    "ExecuteTime": {
     "end_time": "2020-09-26T23:13:09.985560Z",
     "start_time": "2020-09-26T23:13:09.968643Z"
    }
   },
   "outputs": [
    {
     "data": {
      "image/png": "[encoded data removed]",
      "text/latex": [
       "$\\displaystyle \\left[\\begin{matrix}1 & 2 & 0 & 1\\\\0 & 0 & 1 & -0.5\\\\0 & 0 & 0 & 0\\end{matrix}\\right]$"
      ],
      "text/plain": [
       "⎡1  2  0   1  ⎤\n",
       "⎢             ⎥\n",
       "⎢0  0  1  -0.5⎥\n",
       "⎢             ⎥\n",
       "⎣0  0  0   0  ⎦"
      ]
     },
     "execution_count": 3,
     "metadata": {},
     "output_type": "execute_result"
    }
   ],
   "source": [
    "a=Matrix([[1,2,0,1],[0,0,1,-1/2],[0,0,0,0]])\n",
    "a"
   ]
  },
  {
   "cell_type": "markdown",
   "metadata": {},
   "source": [
    "## Finding Reduced Row Echelon Form"
   ]
  },
  {
   "cell_type": "markdown",
   "metadata": {},
   "source": [
    "The matrix:"
   ]
  },
  {
   "cell_type": "code",
   "execution_count": 4,
   "metadata": {
    "ExecuteTime": {
     "end_time": "2020-09-26T23:13:09.995003Z",
     "start_time": "2020-09-26T23:13:09.987274Z"
    }
   },
   "outputs": [
    {
     "data": {
      "image/png": "[encoded data removed]",
      "text/latex": [
       "$\\displaystyle \\left[\\begin{matrix}0 & 1 & 3 & 0 & 1\\\\1 & 0 & 1 & 1 & 1\\end{matrix}\\right]$"
      ],
      "text/plain": [
       "⎡0  1  3  0  1⎤\n",
       "⎢             ⎥\n",
       "⎣1  0  1  1  1⎦"
      ]
     },
     "execution_count": 4,
     "metadata": {},
     "output_type": "execute_result"
    }
   ],
   "source": [
    "A=Matrix([[0,1,3,0,1],[1,0,1,1,1]]);\n",
    "A"
   ]
  },
  {
   "cell_type": "markdown",
   "metadata": {},
   "source": [
    "The RREF:"
   ]
  },
  {
   "cell_type": "code",
   "execution_count": 5,
   "metadata": {
    "ExecuteTime": {
     "end_time": "2020-09-26T23:13:10.003405Z",
     "start_time": "2020-09-26T23:13:09.996901Z"
    }
   },
   "outputs": [
    {
     "data": {
      "image/png": "[encoded data removed]",
      "text/latex": [
       "$\\displaystyle \\left( \\left[\\begin{matrix}1 & 0 & 1 & 1 & 1\\\\0 & 1 & 3 & 0 & 1\\end{matrix}\\right], \\  \\left( 0, \\  1\\right)\\right)$"
      ],
      "text/plain": [
       "⎛⎡1  0  1  1  1⎤        ⎞\n",
       "⎜⎢             ⎥, (0, 1)⎟\n",
       "⎝⎣0  1  3  0  1⎦        ⎠"
      ]
     },
     "execution_count": 5,
     "metadata": {},
     "output_type": "execute_result"
    }
   ],
   "source": [
    "A.rref()"
   ]
  },
  {
   "cell_type": "markdown",
   "metadata": {
    "ExecuteTime": {
     "end_time": "2020-09-26T22:54:35.547699Z",
     "start_time": "2020-09-26T22:54:35.543708Z"
    }
   },
   "source": [
    "## Finding Inverses"
   ]
  },
  {
   "cell_type": "code",
   "execution_count": 6,
   "metadata": {
    "ExecuteTime": {
     "end_time": "2020-09-26T23:13:10.018268Z",
     "start_time": "2020-09-26T23:13:10.005528Z"
    }
   },
   "outputs": [
    {
     "data": {
      "image/png": "[encoded data removed]",
      "text/latex": [
       "$\\displaystyle \\left[\\begin{matrix}-2 & 1\\\\\\frac{3}{2} & - \\frac{1}{2}\\end{matrix}\\right]$"
      ],
      "text/plain": [
       "⎡-2    1  ⎤\n",
       "⎢         ⎥\n",
       "⎣3/2  -1/2⎦"
      ]
     },
     "execution_count": 6,
     "metadata": {},
     "output_type": "execute_result"
    }
   ],
   "source": [
    "A=Matrix([[1,2],[3,4]]);\n",
    "B=A.inv()\n",
    "B"
   ]
  },
  {
   "cell_type": "markdown",
   "metadata": {},
   "source": [
    "We may also use the RREF"
   ]
  },
  {
   "cell_type": "code",
   "execution_count": 7,
   "metadata": {
    "ExecuteTime": {
     "end_time": "2020-09-26T23:13:10.029545Z",
     "start_time": "2020-09-26T23:13:10.019999Z"
    }
   },
   "outputs": [
    {
     "data": {
      "image/png": "[encoded data removed]",
      "text/latex": [
       "$\\displaystyle \\left[\\begin{matrix}1 & 2 & 1 & 0\\\\3 & 4 & 0 & 1\\end{matrix}\\right]$"
      ],
      "text/plain": [
       "⎡1  2  1  0⎤\n",
       "⎢          ⎥\n",
       "⎣3  4  0  1⎦"
      ]
     },
     "execution_count": 7,
     "metadata": {},
     "output_type": "execute_result"
    }
   ],
   "source": [
    "A=Matrix([[1,2,1,0],[3,4,0,1]]);\n",
    "A"
   ]
  },
  {
   "cell_type": "code",
   "execution_count": 7,
   "metadata": {
    "ExecuteTime": {
     "end_time": "2020-09-26T23:13:10.038416Z",
     "start_time": "2020-09-26T23:13:10.032936Z"
    }
   },
   "outputs": [
    {
     "data": {
      "image/png": "[encoded data removed]",
      "text/latex": [
       "$\\displaystyle \\left( \\left[\\begin{matrix}1 & 0 & -2 & 1\\\\0 & 1 & \\frac{3}{2} & - \\frac{1}{2}\\end{matrix}\\right], \\  \\left( 0, \\  1\\right)\\right)$"
      ],
      "text/plain": [
       "⎛⎡1  0  -2    1  ⎤        ⎞\n",
       "⎜⎢               ⎥, (0, 1)⎟\n",
       "⎝⎣0  1  3/2  -1/2⎦        ⎠"
      ]
     },
     "execution_count": 7,
     "metadata": {},
     "output_type": "execute_result"
    }
   ],
   "source": [
    "A.rref()"
   ]
  },
  {
   "cell_type": "code",
   "execution_count": null,
   "metadata": {},
   "outputs": [],
   "source": []
  },
  {
   "cell_type": "markdown",
   "metadata": {},
   "source": [
    "## Least Squares and Normal Equation"
   ]
  },
  {
   "cell_type": "markdown",
   "metadata": {},
   "source": [
    "Least square solutions of $Ax=b$ are solutions of the normal equation:\n",
    "$$ A^TAx=A^Tb.$$\n",
    "Example:\n",
    "\n",
    "We set the $A$ and $b$."
   ]
  },
  {
   "cell_type": "code",
   "execution_count": 8,
   "metadata": {},
   "outputs": [],
   "source": [
    "A=Matrix([[1,2],[3,4],[0,0]])\n",
    "b=Matrix([0,0,1])"
   ]
  },
  {
   "cell_type": "markdown",
   "metadata": {},
   "source": [
    "### We may solve the normal equation."
   ]
  },
  {
   "cell_type": "code",
   "execution_count": 9,
   "metadata": {
    "scrolled": false
   },
   "outputs": [
    {
     "data": {
      "image/png": "[encoded data removed]",
      "text/latex": [
       "$\\displaystyle \\left[\\begin{matrix}0\\\\0\\end{matrix}\\right]$"
      ],
      "text/plain": [
       "⎡0⎤\n",
       "⎢ ⎥\n",
       "⎣0⎦"
      ]
     },
     "execution_count": 9,
     "metadata": {},
     "output_type": "execute_result"
    }
   ],
   "source": [
    "(A.transpose()*A).solve(A.transpose()*b)"
   ]
  },
  {
   "cell_type": "markdown",
   "metadata": {},
   "source": [
    "### We may use the solve_least_squares function of sympy"
   ]
  },
  {
   "cell_type": "code",
   "execution_count": 10,
   "metadata": {},
   "outputs": [
    {
     "data": {
      "image/png": "[encoded data removed]",
      "text/latex": [
       "$\\displaystyle \\left[\\begin{matrix}0\\\\0\\end{matrix}\\right]$"
      ],
      "text/plain": [
       "⎡0⎤\n",
       "⎢ ⎥\n",
       "⎣0⎦"
      ]
     },
     "execution_count": 10,
     "metadata": {},
     "output_type": "execute_result"
    }
   ],
   "source": [
    "A.solve_least_squares(b)"
   ]
  },
  {
   "cell_type": "markdown",
   "metadata": {},
   "source": [
    "## Orthogonal projection into $Im(A)$"
   ]
  },
  {
   "cell_type": "markdown",
   "metadata": {},
   "source": [
    "### Case $A$ orthonormal\n",
    "When A is orthonormal (its column vectors are orthonormal) then the orthogonal projection into $Im(A)$ has standard matrix $$AA^T.$$\n",
    "Example:"
   ]
  },
  {
   "cell_type": "code",
   "execution_count": 8,
   "metadata": {},
   "outputs": [
    {
     "data": {
      "image/png": "[encoded data removed]",
      "text/latex": [
       "$\\displaystyle \\left[\\begin{matrix}\\frac{\\sqrt{10}}{10} & - \\frac{3 \\sqrt{10}}{10}\\\\\\frac{3 \\sqrt{10}}{10} & \\frac{\\sqrt{10}}{10}\\\\0 & 0\\end{matrix}\\right]$"
      ],
      "text/plain": [
       "⎡ √10   -3⋅√10 ⎤\n",
       "⎢ ───   ───────⎥\n",
       "⎢  10      10  ⎥\n",
       "⎢              ⎥\n",
       "⎢3⋅√10    √10  ⎥\n",
       "⎢─────    ───  ⎥\n",
       "⎢  10      10  ⎥\n",
       "⎢              ⎥\n",
       "⎣  0       0   ⎦"
      ]
     },
     "execution_count": 8,
     "metadata": {},
     "output_type": "execute_result"
    }
   ],
   "source": [
    "A=Matrix([[1,-3],[3,1],[0,0]])/sqrt(10)\n",
    "A"
   ]
  },
  {
   "cell_type": "markdown",
   "metadata": {},
   "source": [
    "The orthogonal projection into $Im(A)$ should just keep the first two components and output $0$ for the third.\n",
    "That is \n",
    "\\begin{align}\n",
    "A=\\begin{bmatrix}1&0&0\\\\0&1&0\\\\0&0&0\\end{bmatrix}.\n",
    "\\end{align}\n",
    "Let us confirm."
   ]
  },
  {
   "cell_type": "code",
   "execution_count": 9,
   "metadata": {},
   "outputs": [
    {
     "data": {
      "image/png": "[encoded data removed]",
      "text/latex": [
       "$\\displaystyle \\left[\\begin{matrix}1 & 0 & 0\\\\0 & 1 & 0\\\\0 & 0 & 0\\end{matrix}\\right]$"
      ],
      "text/plain": [
       "⎡1  0  0⎤\n",
       "⎢       ⎥\n",
       "⎢0  1  0⎥\n",
       "⎢       ⎥\n",
       "⎣0  0  0⎦"
      ]
     },
     "execution_count": 9,
     "metadata": {},
     "output_type": "execute_result"
    }
   ],
   "source": [
    "A*A.transpose()"
   ]
  },
  {
   "cell_type": "code",
   "execution_count": null,
   "metadata": {},
   "outputs": [],
   "source": []
  },
  {
   "cell_type": "markdown",
   "metadata": {},
   "source": [
    "### General Case \n",
    "When $\\ker(A)=\\{0\\}$, the standard matrix of the orthogonal projection into $Im(A)$ is\n",
    "$$\n",
    "A(A^TA)^{-1}A^T.\n",
    "$$\n",
    "Example:"
   ]
  },
  {
   "cell_type": "code",
   "execution_count": 13,
   "metadata": {},
   "outputs": [
    {
     "data": {
      "image/png": "[encoded data removed]",
      "text/latex": [
       "$\\displaystyle \\left[\\begin{matrix}1 & 0 & 0\\\\0 & 1 & 0\\\\0 & 0 & 0\\end{matrix}\\right]$"
      ],
      "text/plain": [
       "⎡1  0  0⎤\n",
       "⎢       ⎥\n",
       "⎢0  1  0⎥\n",
       "⎢       ⎥\n",
       "⎣0  0  0⎦"
      ]
     },
     "execution_count": 13,
     "metadata": {},
     "output_type": "execute_result"
    }
   ],
   "source": [
    "A=Matrix([[1,2],[3,4],[0,0]])\n",
    "A*(A.transpose()*A).inv()*A.transpose()"
   ]
  },
  {
   "cell_type": "markdown",
   "metadata": {},
   "source": [
    "## Gram-Schmidt and QR Factorization"
   ]
  },
  {
   "cell_type": "markdown",
   "metadata": {},
   "source": [
    "### The process\n",
    "The goal is to construct an orthonormal basis out of a set of vectors."
   ]
  },
  {
   "cell_type": "markdown",
   "metadata": {},
   "source": [
    "Let us start with this matrix:"
   ]
  },
  {
   "cell_type": "code",
   "execution_count": 11,
   "metadata": {},
   "outputs": [
    {
     "data": {
      "image/png": "[encoded data removed]",
      "text/latex": [
       "$\\displaystyle \\left[ \\left[\\begin{matrix}1\\\\0\\\\0\\end{matrix}\\right], \\  \\left[\\begin{matrix}2\\\\0\\\\1\\end{matrix}\\right], \\  \\left[\\begin{matrix}2\\\\1\\\\0\\end{matrix}\\right]\\right]$"
      ],
      "text/plain": [
       "⎡⎡1⎤  ⎡2⎤  ⎡2⎤⎤\n",
       "⎢⎢ ⎥  ⎢ ⎥  ⎢ ⎥⎥\n",
       "⎢⎢0⎥, ⎢0⎥, ⎢1⎥⎥\n",
       "⎢⎢ ⎥  ⎢ ⎥  ⎢ ⎥⎥\n",
       "⎣⎣0⎦  ⎣1⎦  ⎣0⎦⎦"
      ]
     },
     "execution_count": 11,
     "metadata": {},
     "output_type": "execute_result"
    }
   ],
   "source": [
    "M=[Matrix([1,0,0]),Matrix([2,0,1]),Matrix([2,1,0])]\n",
    "M"
   ]
  },
  {
   "cell_type": "code",
   "execution_count": 12,
   "metadata": {},
   "outputs": [
    {
     "name": "stdout",
     "output_type": "stream",
     "text": [
      "First vector is normalized. Q =\n"
     ]
    },
    {
     "data": {
      "image/png": "[encoded data removed]",
      "text/latex": [
       "$\\displaystyle \\left[\\begin{matrix}1\\\\0\\\\0\\end{matrix}\\right]$"
      ],
      "text/plain": [
       "⎡1⎤\n",
       "⎢ ⎥\n",
       "⎢0⎥\n",
       "⎢ ⎥\n",
       "⎣0⎦"
      ]
     },
     "metadata": {},
     "output_type": "display_data"
    }
   ],
   "source": [
    "print('First vector is normalized. Q =')\n",
    "u=M[0]/M[0].norm()\n",
    "display(u)"
   ]
  },
  {
   "cell_type": "code",
   "execution_count": 13,
   "metadata": {},
   "outputs": [
    {
     "name": "stdout",
     "output_type": "stream",
     "text": [
      "Second vector is projected and we normalize its orthogonal component. Q = \n"
     ]
    },
    {
     "data": {
      "image/png": "[encoded data removed]",
      "text/latex": [
       "$\\displaystyle \\left[\\begin{matrix}1 & 0\\\\0 & 0\\\\0 & 1\\end{matrix}\\right]$"
      ],
      "text/plain": [
       "⎡1  0⎤\n",
       "⎢    ⎥\n",
       "⎢0  0⎥\n",
       "⎢    ⎥\n",
       "⎣0  1⎦"
      ]
     },
     "metadata": {},
     "output_type": "display_data"
    }
   ],
   "source": [
    "print('Second vector is projected and we normalize its orthogonal component. Q = ')\n",
    "v_new=M[1]\n",
    "# orthogonal component\n",
    "u_new=v_new-u*u.transpose()*v_new\n",
    "# normalized\n",
    "u_new=u_new/u_new.norm()\n",
    "# Expend the subspace\n",
    "u=Matrix.row_join(u,u_new)\n",
    "display(u)"
   ]
  },
  {
   "cell_type": "code",
   "execution_count": 14,
   "metadata": {},
   "outputs": [
    {
     "name": "stdout",
     "output_type": "stream",
     "text": [
      "Third vector is projected and we normalize its orthogonal component. Q = \n"
     ]
    },
    {
     "data": {
      "image/png": "[encoded data removed]",
      "text/latex": [
       "$\\displaystyle \\left[\\begin{matrix}1 & 0 & 0\\\\0 & 0 & 1\\\\0 & 1 & 0\\end{matrix}\\right]$"
      ],
      "text/plain": [
       "⎡1  0  0⎤\n",
       "⎢       ⎥\n",
       "⎢0  0  1⎥\n",
       "⎢       ⎥\n",
       "⎣0  1  0⎦"
      ]
     },
     "metadata": {},
     "output_type": "display_data"
    }
   ],
   "source": [
    "print('Third vector is projected and we normalize its orthogonal component. Q = ')\n",
    "v_new=M[2]\n",
    "# Project\n",
    "u_new=v_new-u*u.transpose()*v_new\n",
    "# Take the norm\n",
    "u_new=u_new/u_new.norm()\n",
    "# Expand\n",
    "u=Matrix.row_join(u,u_new)\n",
    "display(u)"
   ]
  },
  {
   "cell_type": "markdown",
   "metadata": {},
   "source": [
    "Making it as a routine:"
   ]
  },
  {
   "cell_type": "code",
   "execution_count": 15,
   "metadata": {},
   "outputs": [],
   "source": [
    "def myGrSc(listOfVectors):\n",
    "    M=listOfVectors\n",
    "    i=-len(M)\n",
    "    u=M[i]/M[i].norm()\n",
    "    while i<-1:\n",
    "        i=i+1\n",
    "        # new vector\n",
    "        v_new=M[i]\n",
    "        # project vector\n",
    "        u_new=v_new-u*u.transpose()*v_new\n",
    "        # normalize\n",
    "        u_new=u_new/u_new.norm()\n",
    "        # add\n",
    "        u=Matrix.row_join(u,u_new)\n",
    "        \n",
    "    return u\n",
    "       "
   ]
  },
  {
   "cell_type": "markdown",
   "metadata": {},
   "source": [
    "We apply it to $M$"
   ]
  },
  {
   "cell_type": "code",
   "execution_count": 16,
   "metadata": {},
   "outputs": [
    {
     "data": {
      "image/png": "[encoded data removed]",
      "text/latex": [
       "$\\displaystyle \\left[\\begin{matrix}1 & 0 & 0\\\\0 & 0 & 1\\\\0 & 1 & 0\\end{matrix}\\right]$"
      ],
      "text/plain": [
       "⎡1  0  0⎤\n",
       "⎢       ⎥\n",
       "⎢0  0  1⎥\n",
       "⎢       ⎥\n",
       "⎣0  1  0⎦"
      ]
     },
     "execution_count": 16,
     "metadata": {},
     "output_type": "execute_result"
    }
   ],
   "source": [
    "myGrSc(M)"
   ]
  },
  {
   "cell_type": "markdown",
   "metadata": {},
   "source": [
    "### Using Sympy routines"
   ]
  },
  {
   "cell_type": "code",
   "execution_count": 17,
   "metadata": {},
   "outputs": [
    {
     "data": {
      "image/png": "[encoded data removed]",
      "text/latex": [
       "$\\displaystyle \\left[\\begin{matrix}1 & 2 & 2\\\\0 & 0 & 1\\\\0 & 1 & 0\\end{matrix}\\right]$"
      ],
      "text/plain": [
       "⎡1  2  2⎤\n",
       "⎢       ⎥\n",
       "⎢0  0  1⎥\n",
       "⎢       ⎥\n",
       "⎣0  1  0⎦"
      ]
     },
     "execution_count": 17,
     "metadata": {},
     "output_type": "execute_result"
    }
   ],
   "source": [
    "M=Matrix(3,3,[1,2,2,0,0,1,0,1,0])\n",
    "M"
   ]
  },
  {
   "cell_type": "code",
   "execution_count": 18,
   "metadata": {},
   "outputs": [
    {
     "data": {
      "image/png": "[encoded data removed]",
      "text/latex": [
       "$\\displaystyle \\left( \\left[\\begin{matrix}1 & 0 & 0\\\\0 & 0 & 1\\\\0 & 1 & 0\\end{matrix}\\right], \\  \\left[\\begin{matrix}1 & 2 & 2\\\\0 & 1 & 0\\\\0 & 0 & 1\\end{matrix}\\right]\\right)$"
      ],
      "text/plain": [
       "⎛⎡1  0  0⎤  ⎡1  2  2⎤⎞\n",
       "⎜⎢       ⎥  ⎢       ⎥⎟\n",
       "⎜⎢0  0  1⎥, ⎢0  1  0⎥⎟\n",
       "⎜⎢       ⎥  ⎢       ⎥⎟\n",
       "⎝⎣0  1  0⎦  ⎣0  0  1⎦⎠"
      ]
     },
     "execution_count": 18,
     "metadata": {},
     "output_type": "execute_result"
    }
   ],
   "source": [
    "M.QRdecomposition()"
   ]
  },
  {
   "cell_type": "markdown",
   "metadata": {},
   "source": [
    "### Gram Schmidt Example generator"
   ]
  },
  {
   "cell_type": "code",
   "execution_count": 86,
   "metadata": {},
   "outputs": [
    {
     "data": {
      "text/latex": [
       "$\\displaystyle v_1 = \\left[\\begin{matrix}-3\\\\1\\end{matrix}\\right] ;  v_2 = \\left[\\begin{matrix}-4\\\\0\\end{matrix}\\right] ; $"
      ],
      "text/plain": [
       "<IPython.core.display.Math object>"
      ]
     },
     "metadata": {},
     "output_type": "display_data"
    },
    {
     "data": {
      "text/latex": [
       "$\\displaystyle w_1= \\left[\\begin{matrix}-3\\\\1\\end{matrix}\\right] ;\\ \\|w_1\\| =  \\sqrt{10} ; \\ u_1= \\left[\\begin{matrix}- \\frac{3 \\sqrt{10}}{10}\\\\\\frac{\\sqrt{10}}{10}\\end{matrix}\\right]$"
      ],
      "text/plain": [
       "<IPython.core.display.Math object>"
      ]
     },
     "metadata": {},
     "output_type": "display_data"
    },
    {
     "data": {
      "text/latex": [
       "$\\displaystyle w_2=v_2 - \\langle v_2,u_1\\rangle u_1$"
      ],
      "text/plain": [
       "<IPython.core.display.Math object>"
      ]
     },
     "metadata": {},
     "output_type": "display_data"
    },
    {
     "data": {
      "text/latex": [
       "$\\displaystyle w_2=  \\left[\\begin{matrix}-4\\\\0\\end{matrix}\\right] - \\left( \\frac{6 \\sqrt{10}}{5} \\right) \\left[\\begin{matrix}- \\frac{3 \\sqrt{10}}{10}\\\\\\frac{\\sqrt{10}}{10}\\end{matrix}\\right]$"
      ],
      "text/plain": [
       "<IPython.core.display.Math object>"
      ]
     },
     "metadata": {},
     "output_type": "display_data"
    },
    {
     "data": {
      "text/latex": [
       "$\\displaystyle w_2= \\left[\\begin{matrix}- \\frac{2}{5}\\\\- \\frac{6}{5}\\end{matrix}\\right] ;\\ \\|w_2\\| =  \\frac{2 \\sqrt{10}}{5} ;\\ u_2= \\left[\\begin{matrix}- \\frac{\\sqrt{10}}{10}\\\\- \\frac{3 \\sqrt{10}}{10}\\end{matrix}\\right]$"
      ],
      "text/plain": [
       "<IPython.core.display.Math object>"
      ]
     },
     "metadata": {},
     "output_type": "display_data"
    }
   ],
   "source": [
    "import random\n",
    "from IPython.display import display, Math\n",
    "\n",
    "n=random.choice(range(2,4))\n",
    "m=random.choice(range(2,4))\n",
    "pool=range(-5,5)\n",
    "mat=Matrix(n,m,[random.choice(pool) for _ in range(n*m)])\n",
    "# displays the v\n",
    "temp=[]\n",
    "for i in range(m): \n",
    "    temp.append(fr\"v_{i+1} =\")\n",
    "    temp.append(latex(mat[:,i]))\n",
    "    temp.append(\"; \")\n",
    "display(Math(\" \".join(temp)))\n",
    "    \n",
    "if len(mat.rref()[1])!=m:\n",
    "    display(mat)\n",
    "    print(\"Matrix has dependent columns\")\n",
    "else:    \n",
    "    w1=mat[:,0]\n",
    "    u1=w1/w1.norm()\n",
    "    u=[u1]\n",
    "    temp=[fr\"w_1=\",latex(w1),\";\\ \\|w_1\\| = \",latex(w1.norm()),fr\"; \\ u_1=\",latex(u1)]\n",
    "    display(Math(\" \".join(temp)))\n",
    "\n",
    "    for i in range(1,m):\n",
    "        temp=[]\n",
    "        temp2=[]\n",
    "        v_i=mat[:,i]\n",
    "        temp.append(fr\"w_{i+1}=v_{i+1}\")\n",
    "        temp2.extend([fr\"w_{i+1}= \",latex(v_i)])\n",
    "        w_i=v_i\n",
    "        for k,vec in enumerate(u):\n",
    "            coef=v_i.dot(vec)\n",
    "            temp.append(\"-\")\n",
    "            temp2.append(\"-\")\n",
    "            temp.append(fr\"\\langle v_{i+1},u_{k+1}\\rangle u_{k+1}\")\n",
    "            temp2.extend([r\"\\left(\",latex(coef),r\"\\right)\"])\n",
    "            temp2.append(latex(vec))\n",
    "            w_i-=coef*vec\n",
    "        #temp2.extend([\" = \",latex(w_i)])\n",
    "        display(Math(\" \".join(temp)))\n",
    "        display(Math(\" \".join(temp2)))\n",
    "        u_i=w_i/w_i.norm()\n",
    "        temp=[fr\"w_{i+1}=\",latex(w_i),fr\";\\ \\|w_{i+1}\\| = \",latex(w_i.norm()),\n",
    "              fr\";\\ u_{i+1}=\",latex(u_i)]\n",
    "        display(Math(\" \".join(temp)))\n",
    "\n",
    "        u.append(u_i)"
   ]
  }
 ],
 "metadata": {
  "kernelspec": {
   "display_name": "Python 3",
   "language": "python",
   "name": "python3"
  },
  "language_info": {
   "codemirror_mode": {
    "name": "ipython",
    "version": 3
   },
   "file_extension": ".py",
   "mimetype": "text/x-python",
   "name": "python",
   "nbconvert_exporter": "python",
   "pygments_lexer": "ipython3",
   "version": "3.8.6"
  },
  "latex_envs": {
   "LaTeX_envs_menu_present": true,
   "autoclose": false,
   "autocomplete": true,
   "bibliofile": "biblio.bib",
   "cite_by": "apalike",
   "current_citInitial": 1,
   "eqLabelWithNumbers": true,
   "eqNumInitial": 1,
   "hotkeys": {
    "equation": "Ctrl-E",
    "itemize": "Ctrl-I"
   },
   "labels_anchors": false,
   "latex_user_defs": false,
   "report_style_numbering": false,
   "user_envs_cfg": false
  },
  "toc": {
   "base_numbering": 1,
   "nav_menu": {},
   "number_sections": true,
   "sideBar": false,
   "skip_h1_title": true,
   "title_cell": "Table of Contents",
   "title_sidebar": "Contents",
   "toc_cell": true,
   "toc_position": {
    "height": "calc(100% - 180px)",
    "left": "10px",
    "top": "150px",
    "width": "165px"
   },
   "toc_section_display": false,
   "toc_window_display": false
  }
 },
 "nbformat": 4,
 "nbformat_minor": 4
}
